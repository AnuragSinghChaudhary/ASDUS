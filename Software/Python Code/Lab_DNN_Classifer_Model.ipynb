{
 "cells": [
  {
   "cell_type": "markdown",
   "metadata": {},
   "source": [
    "### Neural Network Model to train on Semantic distances between title and body/prose segments"
   ]
  },
  {
   "cell_type": "code",
   "execution_count": 1,
   "metadata": {
    "collapsed": true
   },
   "outputs": [],
   "source": [
    "import pandas as pd\n",
    "import numpy as np"
   ]
  },
  {
   "cell_type": "code",
   "execution_count": 2,
   "metadata": {
    "collapsed": true
   },
   "outputs": [],
   "source": [
    "df = pd.read_csv('Lab_dom_dep_train_data.csv')"
   ]
  },
  {
   "cell_type": "code",
   "execution_count": 3,
   "metadata": {},
   "outputs": [
    {
     "name": "stdout",
     "output_type": "stream",
     "text": [
      "<class 'pandas.core.frame.DataFrame'>\n",
      "RangeIndex: 38546 entries, 0 to 38545\n",
      "Data columns (total 4 columns):\n",
      "Header_Distance    38546 non-null float64\n",
      "Body_Distance      38546 non-null float64\n",
      "Length             38546 non-null int64\n",
      "Label              38546 non-null int64\n",
      "dtypes: float64(2), int64(2)\n",
      "memory usage: 1.2 MB\n"
     ]
    }
   ],
   "source": [
    "# Stats of the data frame\n",
    "df.info()"
   ]
  },
  {
   "cell_type": "code",
   "execution_count": 4,
   "metadata": {},
   "outputs": [
    {
     "data": {
      "text/html": [
       "<div>\n",
       "<style>\n",
       "    .dataframe thead tr:only-child th {\n",
       "        text-align: right;\n",
       "    }\n",
       "\n",
       "    .dataframe thead th {\n",
       "        text-align: left;\n",
       "    }\n",
       "\n",
       "    .dataframe tbody tr th {\n",
       "        vertical-align: top;\n",
       "    }\n",
       "</style>\n",
       "<table border=\"1\" class=\"dataframe\">\n",
       "  <thead>\n",
       "    <tr style=\"text-align: right;\">\n",
       "      <th></th>\n",
       "      <th>Header_Distance</th>\n",
       "      <th>Body_Distance</th>\n",
       "      <th>Length</th>\n",
       "      <th>Label</th>\n",
       "    </tr>\n",
       "  </thead>\n",
       "  <tbody>\n",
       "    <tr>\n",
       "      <th>0</th>\n",
       "      <td>0.000000</td>\n",
       "      <td>-8.462631</td>\n",
       "      <td>6</td>\n",
       "      <td>2</td>\n",
       "    </tr>\n",
       "    <tr>\n",
       "      <th>1</th>\n",
       "      <td>-4.936535</td>\n",
       "      <td>-28.999250</td>\n",
       "      <td>17</td>\n",
       "      <td>2</td>\n",
       "    </tr>\n",
       "    <tr>\n",
       "      <th>2</th>\n",
       "      <td>0.000000</td>\n",
       "      <td>0.000000</td>\n",
       "      <td>4</td>\n",
       "      <td>2</td>\n",
       "    </tr>\n",
       "    <tr>\n",
       "      <th>3</th>\n",
       "      <td>0.000000</td>\n",
       "      <td>0.000000</td>\n",
       "      <td>7</td>\n",
       "      <td>2</td>\n",
       "    </tr>\n",
       "    <tr>\n",
       "      <th>4</th>\n",
       "      <td>0.000000</td>\n",
       "      <td>0.000000</td>\n",
       "      <td>7</td>\n",
       "      <td>2</td>\n",
       "    </tr>\n",
       "  </tbody>\n",
       "</table>\n",
       "</div>"
      ],
      "text/plain": [
       "   Header_Distance  Body_Distance  Length  Label\n",
       "0         0.000000      -8.462631       6      2\n",
       "1        -4.936535     -28.999250      17      2\n",
       "2         0.000000       0.000000       4      2\n",
       "3         0.000000       0.000000       7      2\n",
       "4         0.000000       0.000000       7      2"
      ]
     },
     "execution_count": 4,
     "metadata": {},
     "output_type": "execute_result"
    }
   ],
   "source": [
    "df.head()"
   ]
  },
  {
   "cell_type": "code",
   "execution_count": 5,
   "metadata": {},
   "outputs": [
    {
     "data": {
      "text/html": [
       "<div>\n",
       "<style>\n",
       "    .dataframe thead tr:only-child th {\n",
       "        text-align: right;\n",
       "    }\n",
       "\n",
       "    .dataframe thead th {\n",
       "        text-align: left;\n",
       "    }\n",
       "\n",
       "    .dataframe tbody tr th {\n",
       "        vertical-align: top;\n",
       "    }\n",
       "</style>\n",
       "<table border=\"1\" class=\"dataframe\">\n",
       "  <thead>\n",
       "    <tr style=\"text-align: right;\">\n",
       "      <th></th>\n",
       "      <th>Header_Distance</th>\n",
       "      <th>Body_Distance</th>\n",
       "      <th>Length</th>\n",
       "      <th>Label</th>\n",
       "    </tr>\n",
       "  </thead>\n",
       "  <tbody>\n",
       "    <tr>\n",
       "      <th>count</th>\n",
       "      <td>38546.000000</td>\n",
       "      <td>38546.000000</td>\n",
       "      <td>38546.000000</td>\n",
       "      <td>38546.000000</td>\n",
       "    </tr>\n",
       "    <tr>\n",
       "      <th>mean</th>\n",
       "      <td>-39.069120</td>\n",
       "      <td>-63.889317</td>\n",
       "      <td>87.341670</td>\n",
       "      <td>1.553183</td>\n",
       "    </tr>\n",
       "    <tr>\n",
       "      <th>std</th>\n",
       "      <td>106.734223</td>\n",
       "      <td>167.961652</td>\n",
       "      <td>223.709508</td>\n",
       "      <td>0.654935</td>\n",
       "    </tr>\n",
       "    <tr>\n",
       "      <th>min</th>\n",
       "      <td>-5392.145508</td>\n",
       "      <td>-8156.689941</td>\n",
       "      <td>3.000000</td>\n",
       "      <td>0.000000</td>\n",
       "    </tr>\n",
       "    <tr>\n",
       "      <th>25%</th>\n",
       "      <td>-19.120090</td>\n",
       "      <td>-33.267109</td>\n",
       "      <td>9.000000</td>\n",
       "      <td>1.000000</td>\n",
       "    </tr>\n",
       "    <tr>\n",
       "      <th>50%</th>\n",
       "      <td>-4.231316</td>\n",
       "      <td>-9.873070</td>\n",
       "      <td>17.000000</td>\n",
       "      <td>2.000000</td>\n",
       "    </tr>\n",
       "    <tr>\n",
       "      <th>75%</th>\n",
       "      <td>0.000000</td>\n",
       "      <td>0.000000</td>\n",
       "      <td>46.000000</td>\n",
       "      <td>2.000000</td>\n",
       "    </tr>\n",
       "    <tr>\n",
       "      <th>max</th>\n",
       "      <td>0.000000</td>\n",
       "      <td>0.000000</td>\n",
       "      <td>9927.000000</td>\n",
       "      <td>2.000000</td>\n",
       "    </tr>\n",
       "  </tbody>\n",
       "</table>\n",
       "</div>"
      ],
      "text/plain": [
       "       Header_Distance  Body_Distance        Length         Label\n",
       "count     38546.000000   38546.000000  38546.000000  38546.000000\n",
       "mean        -39.069120     -63.889317     87.341670      1.553183\n",
       "std         106.734223     167.961652    223.709508      0.654935\n",
       "min       -5392.145508   -8156.689941      3.000000      0.000000\n",
       "25%         -19.120090     -33.267109      9.000000      1.000000\n",
       "50%          -4.231316      -9.873070     17.000000      2.000000\n",
       "75%           0.000000       0.000000     46.000000      2.000000\n",
       "max           0.000000       0.000000   9927.000000      2.000000"
      ]
     },
     "execution_count": 5,
     "metadata": {},
     "output_type": "execute_result"
    }
   ],
   "source": [
    "df.describe()"
   ]
  },
  {
   "cell_type": "code",
   "execution_count": 6,
   "metadata": {
    "collapsed": true
   },
   "outputs": [],
   "source": [
    "import seaborn as sns\n",
    "%matplotlib inline"
   ]
  },
  {
   "cell_type": "code",
   "execution_count": 7,
   "metadata": {},
   "outputs": [
    {
     "data": {
      "text/plain": [
       "array([[<matplotlib.axes._subplots.AxesSubplot object at 0x0000022B970F0C18>]], dtype=object)"
      ]
     },
     "execution_count": 7,
     "metadata": {},
     "output_type": "execute_result"
    },
    {
     "data": {
      "image/png": "[encoded data removed]",
      "text/plain": [
       "<matplotlib.figure.Figure at 0x22b97033518>"
      ]
     },
     "metadata": {},
     "output_type": "display_data"
    }
   ],
   "source": [
    "df.hist(column='Label')"
   ]
  },
  {
   "cell_type": "code",
   "execution_count": 9,
   "metadata": {
    "collapsed": true
   },
   "outputs": [],
   "source": [
    "X = df[['Header_Distance','Body_Distance','Length']]\n",
    "y = df['Label']"
   ]
  },
  {
   "cell_type": "code",
   "execution_count": 26,
   "metadata": {
    "collapsed": true
   },
   "outputs": [],
   "source": [
    "# import python tensorflow\n",
    "import tensorflow as tf\n",
    "from tensorflow.contrib.learn import SKCompat"
   ]
  },
  {
   "cell_type": "code",
   "execution_count": 27,
   "metadata": {
    "collapsed": true
   },
   "outputs": [],
   "source": [
    "# Specify that all features have real-value data\n",
    "feature_columns = [tf.contrib.layers.real_valued_column(\"\", dimension=3)]"
   ]
  },
  {
   "cell_type": "code",
   "execution_count": 28,
   "metadata": {},
   "outputs": [
    {
     "name": "stdout",
     "output_type": "stream",
     "text": [
      "INFO:tensorflow:Using default config.\n",
      "INFO:tensorflow:Using config: {'_task_type': None, '_task_id': 0, '_cluster_spec': <tensorflow.python.training.server_lib.ClusterSpec object at 0x000002575B9A3A20>, '_master': '', '_num_ps_replicas': 0, '_num_worker_replicas': 0, '_environment': 'local', '_is_chief': True, '_evaluation_master': '', '_tf_config': gpu_options {\n",
      "  per_process_gpu_memory_fraction: 1\n",
      "}\n",
      ", '_tf_random_seed': None, '_save_summary_steps': 100, '_save_checkpoints_secs': 600, '_log_step_count_steps': 100, '_session_config': None, '_save_checkpoints_steps': None, '_keep_checkpoint_max': 5, '_keep_checkpoint_every_n_hours': 10000, '_model_dir': './tf_model/'}\n"
     ]
    }
   ],
   "source": [
    "classifer_qq = SKCompat(tf.contrib.learn.DNNClassifier(hidden_units=[24,48],\n",
    "                                           feature_columns=feature_columns,\n",
    "                                           n_classes=3,model_dir='./tf_model/'\n",
    "                                          ))"
   ]
  },
  {
   "cell_type": "code",
   "execution_count": 29,
   "metadata": {},
   "outputs": [
    {
     "name": "stdout",
     "output_type": "stream",
     "text": [
      "WARNING:tensorflow:float64 is not supported by many models, consider casting to float32.\n",
      "INFO:tensorflow:Create CheckpointSaverHook.\n",
      "INFO:tensorflow:Saving checkpoints for 1 into ./tf_model/model.ckpt.\n",
      "INFO:tensorflow:loss = 19.0013, step = 1\n",
      "INFO:tensorflow:global_step/sec: 206.918\n",
      "INFO:tensorflow:loss = 0.762444, step = 101 (0.486 sec)\n",
      "INFO:tensorflow:global_step/sec: 214.022\n",
      "INFO:tensorflow:loss = 1.55348, step = 201 (0.466 sec)\n",
      "INFO:tensorflow:global_step/sec: 213.564\n",
      "INFO:tensorflow:loss = 0.710124, step = 301 (0.467 sec)\n",
      "INFO:tensorflow:global_step/sec: 218.237\n",
      "INFO:tensorflow:loss = 0.66276, step = 401 (0.459 sec)\n",
      "INFO:tensorflow:global_step/sec: 215.875\n",
      "INFO:tensorflow:loss = 0.619779, step = 501 (0.462 sec)\n",
      "INFO:tensorflow:global_step/sec: 217.286\n",
      "INFO:tensorflow:loss = 0.721031, step = 601 (0.461 sec)\n",
      "INFO:tensorflow:global_step/sec: 209.525\n",
      "INFO:tensorflow:loss = 0.55749, step = 701 (0.475 sec)\n",
      "INFO:tensorflow:global_step/sec: 212.653\n",
      "INFO:tensorflow:loss = 0.656736, step = 801 (0.472 sec)\n",
      "INFO:tensorflow:global_step/sec: 215.875\n",
      "INFO:tensorflow:loss = 0.598093, step = 901 (0.464 sec)\n",
      "INFO:tensorflow:global_step/sec: 208.214\n",
      "INFO:tensorflow:loss = 0.578224, step = 1001 (0.478 sec)\n",
      "INFO:tensorflow:global_step/sec: 202.712\n",
      "INFO:tensorflow:loss = 0.659505, step = 1101 (0.494 sec)\n",
      "INFO:tensorflow:global_step/sec: 204.794\n",
      "INFO:tensorflow:loss = 0.560839, step = 1201 (0.486 sec)\n",
      "INFO:tensorflow:global_step/sec: 153.201\n",
      "INFO:tensorflow:loss = 0.594871, step = 1301 (0.656 sec)\n",
      "INFO:tensorflow:global_step/sec: 200.673\n",
      "INFO:tensorflow:loss = 0.607511, step = 1401 (0.497 sec)\n",
      "INFO:tensorflow:global_step/sec: 206.489\n",
      "INFO:tensorflow:loss = 0.635268, step = 1501 (0.484 sec)\n",
      "INFO:tensorflow:global_step/sec: 211.75\n",
      "INFO:tensorflow:loss = 0.627354, step = 1601 (0.472 sec)\n",
      "INFO:tensorflow:global_step/sec: 205.638\n",
      "INFO:tensorflow:loss = 0.801062, step = 1701 (0.486 sec)\n",
      "INFO:tensorflow:global_step/sec: 153.674\n",
      "INFO:tensorflow:loss = 0.599568, step = 1801 (0.651 sec)\n",
      "INFO:tensorflow:global_step/sec: 197.493\n",
      "INFO:tensorflow:loss = 0.61895, step = 1901 (0.510 sec)\n",
      "INFO:tensorflow:Saving checkpoints for 2000 into ./tf_model/model.ckpt.\n",
      "INFO:tensorflow:Loss for final step: 0.552525.\n"
     ]
    },
    {
     "data": {
      "text/plain": [
       "SKCompat()"
      ]
     },
     "execution_count": 29,
     "metadata": {},
     "output_type": "execute_result"
    }
   ],
   "source": [
    "classifer_qq.fit(X,y,steps=2000,batch_size=256)"
   ]
  }
 ],
 "metadata": {
  "kernelspec": {
   "display_name": "Python 3",
   "language": "python",
   "name": "python3"
  },
  "language_info": {
   "codemirror_mode": {
    "name": "ipython",
    "version": 3
   },
   "file_extension": ".py",
   "mimetype": "text/x-python",
   "name": "python",
   "nbconvert_exporter": "python",
   "pygments_lexer": "ipython3",
   "version": "3.6.1"
  }
 },
 "nbformat": 4,
 "nbformat_minor": 2
}
