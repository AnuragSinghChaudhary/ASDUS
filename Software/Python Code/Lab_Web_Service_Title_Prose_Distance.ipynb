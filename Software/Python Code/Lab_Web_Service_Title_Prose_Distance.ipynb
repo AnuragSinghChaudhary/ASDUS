{
 "cells": [
  {
   "cell_type": "markdown",
   "metadata": {},
   "source": [
    "#### Semantic distance between header and body word embeddings exposed as service."
   ]
  },
  {
   "cell_type": "code",
   "execution_count": null,
   "metadata": {},
   "outputs": [],
   "source": [
    "from gensim.models import Word2Vec"
   ]
  },
  {
   "cell_type": "code",
   "execution_count": null,
   "metadata": {
    "collapsed": true
   },
   "outputs": [],
   "source": [
    "# Load the Model\n",
    "def load_model(path):\n",
    "    \"\"\" loads the stored  word2vec model \"\"\"\n",
    "    name = Word2Vec.load(path)\n",
    "    return name"
   ]
  },
  {
   "cell_type": "code",
   "execution_count": null,
   "metadata": {
    "collapsed": true
   },
   "outputs": [],
   "source": [
    "header_model = load_model('header_word_embedding')"
   ]
  },
  {
   "cell_type": "code",
   "execution_count": null,
   "metadata": {
    "collapsed": true
   },
   "outputs": [],
   "source": [
    "body_model = load_model('body_word_embedding')"
   ]
  },
  {
   "cell_type": "code",
   "execution_count": null,
   "metadata": {
    "collapsed": true
   },
   "outputs": [],
   "source": [
    "from bottle import route, run"
   ]
  },
  {
   "cell_type": "code",
   "execution_count": null,
   "metadata": {
    "collapsed": true
   },
   "outputs": [],
   "source": [
    "@route('/hello')\n",
    "def hello():\n",
    "    return \"Hello World!\""
   ]
  },
  {
   "cell_type": "code",
   "execution_count": null,
   "metadata": {
    "collapsed": true
   },
   "outputs": [],
   "source": [
    "@route('/score/header/<sentence:re:.*>')\n",
    "def score_header(sentence):\n",
    "    \"\"\"\n",
    "    Exposed method to get score of header embedding invoked using - http://localhost:port/score/header/<text>\n",
    "    \"\"\"\n",
    "    sentence = str(sentence).replace('+', ' ')  \n",
    "    temp = sentence.lower().split()\n",
    "    score = header_model.score([temp])\n",
    "    return str(score)"
   ]
  },
  {
   "cell_type": "code",
   "execution_count": 8,
   "metadata": {
    "collapsed": true
   },
   "outputs": [],
   "source": [
    "@route('/score/body/<sentence:re:.*>')\n",
    "def score_body(sentence):\n",
    "    \"\"\"\n",
    "    Exposed method to get score of body embedding invoked using - http://localhost:port/score/body/<text>\n",
    "    \"\"\"\n",
    "    sentence = str(sentence).replace('+', ' ')  \n",
    "    temp = sentence.lower().split()\n",
    "    score = body_model.score([temp])\n",
    "    return str(score)"
   ]
  },
  {
   "cell_type": "code",
   "execution_count": 9,
   "metadata": {},
   "outputs": [],
   "source": [
    "run(host='localhost', port=12008, debug=False)"
   ]
  }
 ],
 "metadata": {
  "kernelspec": {
   "display_name": "Python 3",
   "language": "python",
   "name": "python3"
  },
  "language_info": {
   "codemirror_mode": {
    "name": "ipython",
    "version": 3
   },
   "file_extension": ".py",
   "mimetype": "text/x-python",
   "name": "python",
   "nbconvert_exporter": "python",
   "pygments_lexer": "ipython3",
   "version": "3.6.1"
  }
 },
 "nbformat": 4,
 "nbformat_minor": 2
}
