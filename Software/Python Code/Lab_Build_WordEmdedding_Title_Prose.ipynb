{
 "cells": [
  {
   "cell_type": "markdown",
   "metadata": {},
   "source": [
    "### Build word embeddings out of header and body data\n",
    "\n",
    "This file builds word embeddings out of the separated header/title and body/prose data. \n",
    "The vector size of title embedding 30\n",
    "The vector size of body/prose embedding is 60"
   ]
  },
  {
   "cell_type": "code",
   "execution_count": null,
   "metadata": {
    "collapsed": true
   },
   "outputs": [],
   "source": [
    "import os\n",
    "import io"
   ]
  },
  {
   "cell_type": "code",
   "execution_count": null,
   "metadata": {},
   "outputs": [],
   "source": [
    "# Import and download stopwords from NLTK.\n",
    "from nltk.corpus import stopwords\n",
    "from nltk import download\n",
    "download('stopwords')"
   ]
  },
  {
   "cell_type": "code",
   "execution_count": null,
   "metadata": {},
   "outputs": [],
   "source": [
    "from gensim.models import Word2Vec"
   ]
  },
  {
   "cell_type": "code",
   "execution_count": null,
   "metadata": {
    "collapsed": true
   },
   "outputs": [],
   "source": [
    "stop_words = stopwords.words('english')"
   ]
  },
  {
   "cell_type": "code",
   "execution_count": null,
   "metadata": {},
   "outputs": [],
   "source": [
    "from nltk import word_tokenize\n",
    "download('punkt')"
   ]
  },
  {
   "cell_type": "code",
   "execution_count": null,
   "metadata": {
    "collapsed": true
   },
   "outputs": [],
   "source": [
    "def get_data_line_by_line(filename):\n",
    "    \"\"\"\n",
    "    Reads the passed file line by line and adds all the words in it\n",
    "    to an array and returns the array\n",
    "    \"\"\"\n",
    "    data=[]\n",
    "    with open(filename, \"r\", encoding='UTF-8', errors='ignore') as f:\n",
    "        for line in f:\n",
    "            #line_split = line.split()\n",
    "            data.append(line)\n",
    "\n",
    "    return data"
   ]
  },
  {
   "cell_type": "code",
   "execution_count": null,
   "metadata": {
    "collapsed": true
   },
   "outputs": [],
   "source": [
    "def preprocess(doc):\n",
    "    \"\"\" preprocess raw text by tokenising and removing stop-words,special-charaters \"\"\"\n",
    "    doc = doc.lower()  # Lower the text.\n",
    "    doc = word_tokenize(doc)  # Split into words.\n",
    "    doc = [w for w in doc if w.isalpha()]  # Remove numbers and punctuation.\n",
    "    return doc"
   ]
  },
  {
   "cell_type": "code",
   "execution_count": null,
   "metadata": {
    "collapsed": true
   },
   "outputs": [],
   "source": [
    "def train_word2vec_header(train_data,model_name='header_word_embedding',worker_no=3, vector_size=30):\n",
    "    \"\"\" Trains a word2vec model on the preprocessed data and saves it . \"\"\"\n",
    "    if not train_data:\n",
    "        print (\"no training data\")\n",
    "        return\n",
    "    w2v_corpus = [preprocess(train_data[i]) for i in range(len(train_data))]\n",
    "    model = Word2Vec(w2v_corpus, workers = worker_no, size=vector_size, hs=1, negative=0, window=1, min_count=10, alpha=0.0001)\n",
    "    model.save(model_name)\n",
    "    print (\"Header Model Created Successfully\")"
   ]
  },
  {
   "cell_type": "code",
   "execution_count": null,
   "metadata": {
    "collapsed": true
   },
   "outputs": [],
   "source": [
    "def train_word2vec_body(train_data,model_name='body_word_embedding',worker_no=3, vector_size=60):\n",
    "    \"\"\" Trains a word2vec model on the preprocessed data and saves it . \"\"\"\n",
    "    if not train_data:\n",
    "        print (\"no training data\")\n",
    "        return\n",
    "    w2v_corpus = [preprocess(train_data[i]) for i in range(len(train_data))]\n",
    "    model = Word2Vec(w2v_corpus, workers = worker_no, size=vector_size, hs=1, negative=0, window=5, min_count=20, alpha=0.0001)\n",
    "    model.save(model_name)\n",
    "    print (\"Body Model Created Successfully\")"
   ]
  },
  {
   "cell_type": "code",
   "execution_count": null,
   "metadata": {},
   "outputs": [],
   "source": [
    "header_corpus = r\"Pass the Headers/Title Corpus here\"\n",
    "train_data = get_data_line_by_line(header_corpus)\n",
    "train_word2vec_header(train_data=train_data)"
   ]
  },
  {
   "cell_type": "code",
   "execution_count": null,
   "metadata": {},
   "outputs": [],
   "source": [
    "body_corpus = r\"Pass the Body/Prose Corpus here\"\n",
    "train_data = get_data_line_by_line(body_corpus)\n",
    "train_word2vec_body(train_data=train_data)"
   ]
  }
 ],
 "metadata": {
  "kernelspec": {
   "display_name": "Python 3",
   "language": "python",
   "name": "python3"
  },
  "language_info": {
   "codemirror_mode": {
    "name": "ipython",
    "version": 3
   },
   "file_extension": ".py",
   "mimetype": "text/x-python",
   "name": "python",
   "nbconvert_exporter": "python",
   "pygments_lexer": "ipython3",
   "version": "3.6.1"
  }
 },
 "nbformat": 4,
 "nbformat_minor": 2
}
