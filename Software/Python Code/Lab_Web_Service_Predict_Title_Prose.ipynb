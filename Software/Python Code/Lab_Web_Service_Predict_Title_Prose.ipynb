{
 "cells": [
  {
   "cell_type": "markdown",
   "metadata": {},
   "source": [
    "#### Web Service to predict whether given data is Header/Body/Junk"
   ]
  },
  {
   "cell_type": "code",
   "execution_count": null,
   "metadata": {
    "collapsed": true
   },
   "outputs": [],
   "source": [
    "# import python tensorflow\n",
    "import tensorflow as tf\n",
    "from tensorflow.contrib.learn import SKCompat"
   ]
  },
  {
   "cell_type": "code",
   "execution_count": null,
   "metadata": {
    "collapsed": true
   },
   "outputs": [],
   "source": [
    "# Restore the Model\n",
    "feature_columns = [tf.contrib.layers.real_valued_column(\"\", dimension=3)]\n",
    "classifer_qq = SKCompat(tf.contrib.learn.DNNClassifier(hidden_units=[24,48],\n",
    "                                           feature_columns=feature_columns,\n",
    "                                           n_classes=3,model_dir='./tf_model/'\n",
    "                                          ))"
   ]
  },
  {
   "cell_type": "code",
   "execution_count": null,
   "metadata": {
    "collapsed": true
   },
   "outputs": [],
   "source": [
    "def predict_label(X1,X2,X3):\n",
    "    \"\"\"Invokes the predict function of the saved model and returns the label\"\"\"\n",
    "    X_test = np.array([[X1,X2,X3]])\n",
    "    \n",
    "    result = classifer_qq.predict(x=X_test)\n",
    "    \n",
    "    return str(result['classes'][0])"
   ]
  },
  {
   "cell_type": "code",
   "execution_count": null,
   "metadata": {
    "collapsed": true
   },
   "outputs": [],
   "source": [
    "# imports\n",
    "from bottle import route, run\n",
    "import numpy as np"
   ]
  },
  {
   "cell_type": "code",
   "execution_count": null,
   "metadata": {
    "collapsed": true
   },
   "outputs": [],
   "source": [
    "@route('/hello')\n",
    "def hello():\n",
    "    return \"Hello World!\""
   ]
  },
  {
   "cell_type": "code",
   "execution_count": null,
   "metadata": {
    "collapsed": true
   },
   "outputs": [],
   "source": [
    "@route('/predict/headerbody/<values:re:.*>')\n",
    "def predict(values):\n",
    "    \"\"\"\n",
    "    Exposed method to get the label of the values passed.\n",
    "    Values should be passed in the form - http://localhost:port/predict/X1|X2|X3\n",
    "    Where X1=Header Distance, X2=Body Distance, X3=Length\n",
    "    Outputs = 0/1/2. \n",
    "    0 = Header\n",
    "    1 = Body\n",
    "    2 = Junk\n",
    "    \"\"\"\n",
    "    prediction = '2'\n",
    "    \n",
    "    if(len(values) > 0):\n",
    "        values = str(values)\n",
    "        X1 = float(values.split('|')[0])\n",
    "        X2 = float(values.split('|')[1])\n",
    "        X3 = float(values.split('|')[2])\n",
    "        \n",
    "        print(X1)\n",
    "        print(X2)\n",
    "        print(X3)\n",
    "        \n",
    "        prediction = predict_label(X1=X1, X2=X2, X3=X3)\n",
    "    \n",
    "    return str(prediction)"
   ]
  },
  {
   "cell_type": "code",
   "execution_count": null,
   "metadata": {
    "collapsed": true
   },
   "outputs": [],
   "source": [
    "run(host='localhost', port=12009, debug=False)"
   ]
  },
  {
   "cell_type": "code",
   "execution_count": null,
   "metadata": {
    "collapsed": true
   },
   "outputs": [],
   "source": []
  }
 ],
 "metadata": {
  "kernelspec": {
   "display_name": "Python 3",
   "language": "python",
   "name": "python3"
  },
  "language_info": {
   "codemirror_mode": {
    "name": "ipython",
    "version": 3
   },
   "file_extension": ".py",
   "mimetype": "text/x-python",
   "name": "python",
   "nbconvert_exporter": "python",
   "pygments_lexer": "ipython3",
   "version": "3.6.1"
  }
 },
 "nbformat": 4,
 "nbformat_minor": 2
}
